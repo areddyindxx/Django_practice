{
 "cells": [
  {
   "cell_type": "code",
   "execution_count": 32,
   "metadata": {},
   "outputs": [],
   "source": [
    "import pandas as pd"
   ]
  },
  {
   "cell_type": "code",
   "execution_count": 33,
   "metadata": {},
   "outputs": [
    {
     "name": "stdout",
     "output_type": "stream",
     "text": [
      "           ISIN               Company_Name Company_Id       Status  \\\n",
      "0  AEA000201011  Abu Dhabi Commercial Bank   108123-C  QC Approved   \n",
      "1  AEA000201011  Abu Dhabi Commercial Bank   108123-C  QC Approved   \n",
      "2  AEA000201011  Abu Dhabi Commercial Bank   108123-C  QC Approved   \n",
      "3  AEA000201011  Abu Dhabi Commercial Bank   108123-C  QC Approved   \n",
      "4  AEA000201011  Abu Dhabi Commercial Bank   108123-C  QC Approved   \n",
      "\n",
      "  Fy_Ending_Date  level1_Code  level1_Name  level2_Code  \\\n",
      "0     2023-12-31          105  Real Estate        10516   \n",
      "1     2023-12-31          101      Banking        10103   \n",
      "2     2023-12-31          101      Banking        10103   \n",
      "3     2023-12-31          101      Banking        10102   \n",
      "4     2023-12-31          101      Banking        10102   \n",
      "\n",
      "                    level2_Name                  AR_Classification  \\\n",
      "0                   Real Estate                Property management   \n",
      "1  Corporate/Commercial Banking           Investments and treasury   \n",
      "2  Corporate/Commercial Banking  Corporate and investment banking    \n",
      "3                Retail Banking                    Private banking   \n",
      "4                Retail Banking                     Retail banking   \n",
      "\n",
      "   Yearly_Revenue  Revenue  Revenue_Percentage Revenue_Classification  \\\n",
      "0        16866433   374415            2.219882          Marginal Play   \n",
      "1        16866433  4531655           26.867891             Quasi Play   \n",
      "2        16866433  5906522           35.019390             Quasi Play   \n",
      "3        16866433  1318256            7.815855          Marginal Play   \n",
      "4        16866433  4735585           28.076979             Quasi Play   \n",
      "\n",
      "  Currency Currency_Value Country_Of_Incorporation  \n",
      "0      AED       Thousand     United Arab Emirates  \n",
      "1      AED       Thousand     United Arab Emirates  \n",
      "2      AED       Thousand     United Arab Emirates  \n",
      "3      AED       Thousand     United Arab Emirates  \n",
      "4      AED       Thousand     United Arab Emirates  \n"
     ]
    }
   ],
   "source": [
    "df=pd.read_excel(\"itics_practice 1.xlsx\")\n",
    "print(df.head())"
   ]
  },
  {
   "cell_type": "code",
   "execution_count": 54,
   "metadata": {},
   "outputs": [],
   "source": [
    "changed_rows=df.copy()\n",
    "changed_rows = df.copy()\n",
    "changed_rows= changed_rows[changed_rows['Revenue']<=374412 ]\n",
    "changed_rows=changed_rows[changed_rows['level1_Name']==\"Banking\"]"
   ]
  },
  {
   "cell_type": "code",
   "execution_count": 55,
   "metadata": {},
   "outputs": [
    {
     "name": "stdout",
     "output_type": "stream",
     "text": [
      "8\n"
     ]
    }
   ],
   "source": [
    "print(changed_rows.shape[0])"
   ]
  },
  {
   "cell_type": "code",
   "execution_count": null,
   "metadata": {},
   "outputs": [],
   "source": []
  }
 ],
 "metadata": {
  "kernelspec": {
   "display_name": "Python 3",
   "language": "python",
   "name": "python3"
  },
  "language_info": {
   "codemirror_mode": {
    "name": "ipython",
    "version": 3
   },
   "file_extension": ".py",
   "mimetype": "text/x-python",
   "name": "python",
   "nbconvert_exporter": "python",
   "pygments_lexer": "ipython3",
   "version": "3.12.6"
  }
 },
 "nbformat": 4,
 "nbformat_minor": 2
}
